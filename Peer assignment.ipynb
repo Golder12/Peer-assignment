{
 "cells": [
  {
   "cell_type": "markdown",
   "id": "b02aa98a",
   "metadata": {},
   "source": [
    "# My Jupyter Notebook on IBM Watson Studio"
   ]
  },
  {
   "cell_type": "markdown",
   "id": "7363b6c9",
   "metadata": {},
   "source": [
    "#### Name: DOKI GOLDER SYLIVIA\n",
    "Current occupation: Research Assistant in Big Data analytics"
   ]
  },
  {
   "cell_type": "markdown",
   "id": "08b27839",
   "metadata": {},
   "source": [
    "*I am interested in data science because knowledge is power. We get knowledge from information. And we get information from data. Leveraging data in the right way can improve a lot of lives and processes for the better and I would like to be a part of this especially in Africa, because I believe the potential good that data can bring in this continent will be phenomenal.*"
   ]
  },
  {
   "cell_type": "markdown",
   "id": "73c5ac96",
   "metadata": {},
   "source": [
    "### The code below is printing strings"
   ]
  },
  {
   "cell_type": "code",
   "execution_count": 1,
   "id": "6a385372",
   "metadata": {},
   "outputs": [
    {
     "name": "stdout",
     "output_type": "stream",
     "text": [
      "We could change the world if we wanted to\n"
     ]
    }
   ],
   "source": [
    "print(\"We could change the world if we wanted to\")"
   ]
  },
  {
   "cell_type": "markdown",
   "id": "c4fd32f9",
   "metadata": {},
   "source": [
    "##### horizontal rule\n",
    "*** ***\n",
    "##### bulleted list\n",
    "* sunday\n",
    "* monday\n",
    "* tuesday\n",
    "* wednesday\n",
    "* thursday\n",
    "* friday\n",
    "\n",
    "##### numbered list\n",
    "1. bread\n",
    "2. eggs\n",
    "3. milk\n",
    "\n",
    "##### strikethrough\n",
    "~~STRIKETHROUGH EXHIBIT~~"
   ]
  },
  {
   "cell_type": "code",
   "execution_count": null,
   "id": "f9cc8c5e",
   "metadata": {},
   "outputs": [],
   "source": []
  }
 ],
 "metadata": {
  "kernelspec": {
   "display_name": "Python 3 (ipykernel)",
   "language": "python",
   "name": "python3"
  },
  "language_info": {
   "codemirror_mode": {
    "name": "ipython",
    "version": 3
   },
   "file_extension": ".py",
   "mimetype": "text/x-python",
   "name": "python",
   "nbconvert_exporter": "python",
   "pygments_lexer": "ipython3",
   "version": "3.9.7"
  }
 },
 "nbformat": 4,
 "nbformat_minor": 5
}
